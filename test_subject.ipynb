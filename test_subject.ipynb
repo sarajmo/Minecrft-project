{
 "cells": [
  {
   "cell_type": "markdown",
   "id": "f90be62c-fb97-44d9-bbe0-9152ef50e660",
   "metadata": {},
   "source": [
    "change 1"
   ]
  },
  {
   "cell_type": "markdown",
   "id": "4b43e1ed-a58f-4e9f-aec2-3f5d11eed569",
   "metadata": {},
   "source": [
    "change 2"
   ]
  }
 ],
 "metadata": {
  "kernelspec": {
   "display_name": "R",
   "language": "R",
   "name": "ir"
  },
  "language_info": {
   "codemirror_mode": "r",
   "file_extension": ".r",
   "mimetype": "text/x-r-source",
   "name": "R",
   "pygments_lexer": "r",
   "version": "4.3.3"
  }
 },
 "nbformat": 4,
 "nbformat_minor": 5
}
