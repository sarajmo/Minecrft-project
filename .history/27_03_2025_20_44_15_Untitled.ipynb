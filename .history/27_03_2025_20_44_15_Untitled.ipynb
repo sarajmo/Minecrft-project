{
 "cells": [
  {
   "cell_type": "code",
   "execution_count": null,
   "id": "8760dbe8-f128-4dc9-8d94-e82206814a35",
   "metadata": {},
   "outputs": [],
   "source": [
    "library(tidyverse)"
   ]
  },
  {
   "cell_type": "code",
   "execution_count": null,
   "id": "58cffb5d-416d-430f-a5fe-6139a959c1fb",
   "metadata": {},
   "outputs": [],
   "source": [
    "stuff <- read_csv(\"data/players.csv\") \n"
   ]
  },
  {
   "cell_type": "code",
   "execution_count": null,
   "id": "0f9b8aca-7a6b-4557-8751-7c05d7c48e66",
   "metadata": {},
   "outputs": [],
   "source": [
    "genders <- c(\"Male\", \"Female\", \"Non-Binary\", \"Other\", \"Prefer not to say\", \"Agender\", \"Two- Spirited\")"
   ]
  }
 ],
 "metadata": {
  "kernelspec": {
   "display_name": "R",
   "language": "R",
   "name": "ir"
  },
  "language_info": {
   "codemirror_mode": "r",
   "file_extension": ".r",
   "mimetype": "text/x-r-source",
   "name": "R",
   "pygments_lexer": "r",
   "version": "4.3.3"
  }
 },
 "nbformat": 4,
 "nbformat_minor": 5
}
