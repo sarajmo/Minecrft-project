{
 "cells": [
  {
   "cell_type": "code",
   "execution_count": null,
   "id": "8760dbe8-f128-4dc9-8d94-e82206814a35",
   "metadata": {},
   "outputs": [],
   "source": [
    "library(tidyverse)"
   ]
  },
  {
   "cell_type": "code",
   "execution_count": null,
   "id": "58cffb5d-416d-430f-a5fe-6139a959c1fb",
   "metadata": {},
   "outputs": [],
   "source": [
    "stuff <- read_csv(\"data/players.csv\") \n"
   ]
  },
  {
   "cell_type": "code",
   "execution_count": null,
   "id": "0f9b8aca-7a6b-4557-8751-7c05d7c48e66",
   "metadata": {},
   "outputs": [],
   "source": [
    "genders_data <- c(\"Male\", \"Female\", \"Non-Binary\", \"Other\", \"Prefer not to say\", \"Agender\", \"Two- Spirited\")\n",
    "\n",
    "factors <- factor(genders)\n",
    "\n",
    "print(as.numeric(factors))"
   ]
  },
  {
   "cell_type": "code",
   "execution_count": null,
   "id": "cde47eb7-7253-4947-8d08-72f333727efa",
   "metadata": {},
   "outputs": [],
   "source": [
    "hours_gen_sp <- ggplot(stuff, \n",
    "                    aes(x = gender, y = played_hours)) +\n",
    "  geom_point() +\n",
    "  labs(x = \"Age of Players\", y = \"Total Playing Time (hrs)\", \n",
    "       title = \"Gender and Playing Time\", fill = \"Gender\") \n",
    "hours_gen_sp"
   ]
  }
 ],
 "metadata": {
  "kernelspec": {
   "display_name": "R",
   "language": "R",
   "name": "ir"
  },
  "language_info": {
   "codemirror_mode": "r",
   "file_extension": ".r",
   "mimetype": "text/x-r-source",
   "name": "R",
   "pygments_lexer": "r",
   "version": "4.3.3"
  }
 },
 "nbformat": 4,
 "nbformat_minor": 5
}
