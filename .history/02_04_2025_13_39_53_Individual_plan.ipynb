{
 "cells": [
  {
   "cell_type": "markdown",
   "id": "4baf36c9-4e46-4b2f-9a65-d9ba6a6c7e3b",
   "metadata": {},
   "source": [
    "# PLAICraft Planning Report\n",
    "#### By: Sarah Mogga\n",
    "## Introduction\n",
    "\n",
    "The following proposal is based on the data provided by the PLAI, a research group based in the Computer Science department at the University of British Columbia. Their main research revolves around building and developing generative AI that is reliable and safe. In their current research they aim to build an embodied AI. This particular AI has the capacity to interact in complex environments and respond to speech. \n",
    "\n",
    "In order to train the embodied AI, PLAI has created a mock minecraft world (called “PLAICraft”) to collect behavioural data of players then use it to train and enhance their AI model. In order to concentrate their recruitment effort, the PLAI research group has posed the question of which “kinds” of player are most likely to contribute large amounts of data. \n",
    "\n",
    "In this report I will be analysing the provided data from PLAI to understand the various demographics of player and draw a conclusion from such. \n",
    "\n",
    "\n",
    "\n"
   ]
  },
  {
   "cell_type": "code",
   "execution_count": null,
   "id": "038d2d16-5928-4519-b60e-641bcf13bc2c",
   "metadata": {},
   "outputs": [],
   "source": [
    "library(tidyverse)\n",
    "library(ggplot2)\n",
    "library(dplyr)\n",
    "library(RColorBrewer)\n",
    "options(repr.matrix.max.rows = 10)"
   ]
  },
  {
   "cell_type": "markdown",
   "id": "05c4dbf9-2ab6-419f-93ea-69f59d86094e",
   "metadata": {},
   "source": [
    "### Dataset 1: players.csv\n",
    "\n",
    "PLAI provided two different datasets, the first is called “players.csv”. The dataset collected the individual information of each player and in total collected 196 observation, categorising it into the seven following variables:\n",
    "\n",
    "\n",
    "**experience** - how much prior experience an player has with playing minecraft (categorical)\n",
    "\n",
    "**subscribe** - an indicator of weather or not the player is subscribed to the PLAIcraft newsletter (logical vector)\n",
    "\n",
    "**hashedEmail** - the email provided by the player (categorical)\n",
    "\n",
    "**played_hours** - total hours the player spent on minecraft (numerical)\n",
    "\n",
    "**name** - the name of the player (categorical)\n",
    "\n",
    "**gender** - gender of the player (categorical)\n",
    "\n",
    "**age** - age of the player (numerical)\n",
    "\n",
    "The initial print of the players.csv came out tidy, with no overlapping or combined variables in any columns. \n"
   ]
  },
  {
   "cell_type": "code",
   "execution_count": null,
   "id": "683c053b-6892-44cf-b75b-739f2f2ee040",
   "metadata": {},
   "outputs": [],
   "source": [
    "player_data <- read_csv(\"data/players.csv\")\n",
    "\n",
    "player_data <- player_data|>\n",
    "             mutate(gender = as_factor(gender))|>\n",
    "             mutate(experience = as_factor(experience))|>\n",
    "             mutate(subscribe = as_factor(subscribe))\n",
    "\n",
    "player_data"
   ]
  },
  {
   "cell_type": "code",
   "execution_count": null,
   "id": "05644903-f504-4729-bcaa-430fd53ec922",
   "metadata": {},
   "outputs": [],
   "source": [
    "glimpse(player_data)\n",
    "\n",
    "nrow_pd <- nrow(player_data)\n",
    "player_data |>\n",
    "  group_by(gender) |>\n",
    "  summarize(\n",
    "    count = n(), \n",
    "    percentage = n() / nrow_pd * 100)\n",
    "\n",
    "\n",
    "nrow_pd2 <- nrow(player_data)\n",
    "player_data |>\n",
    "  group_by(experience) |>\n",
    "  summarize(\n",
    "    count = n(),\n",
    "    percentage = n() / nrow_pd2 * 100)"
   ]
  },
  {
   "cell_type": "code",
   "execution_count": null,
   "id": "e4b06e53-5d43-47a0-8738-7d3efbfd8933",
   "metadata": {},
   "outputs": [],
   "source": [
    "player_ages <- summarize(player_data,\n",
    "          player_age_min = min(Age, na.rm = TRUE),\n",
    "          player_age_max = max(Age, na.rm = TRUE),\n",
    "          player_age_mean = mean(Age, na.rm = TRUE))\n",
    "player_ages\n",
    "\n",
    "hours_played <- summarize(player_data,\n",
    "          hours_played_min = min(played_hours, na.rm = TRUE),\n",
    "          hours_played_max = max(played_hours, na.rm = TRUE),\n",
    "          hours_played_mean = mean(played_hours, na.rm = TRUE))\n",
    "hours_played"
   ]
  },
  {
   "cell_type": "markdown",
   "id": "52992b28-e0df-43b2-9af6-f6f16fbbb03a",
   "metadata": {},
   "source": [
    "## Summary Stats\n",
    "Below are the summary statistics of each variable that will be analysed in the proposal.\n",
    "| Variable   | Max                |   Min              |        Mean         |\n",
    "|------------|--------------------|--------------------|---------------------|\n",
    "| hours_played | 223.1\t|0| 5.845918|\n",
    "| age |50 | 8| 20.52062| \n",
    "\n",
    "\n",
    "| Gender  | Count            |  Percentage             |  \n",
    "|------------|--------------------|--------------------|\n",
    "| Male | 124\t|63%| \n",
    "| Female | 37 |19%|\n",
    "| Non-Binary | 15\t|8%|\n",
    "| Prefer not to say |11|6%|\n",
    "| Agender | 2\t|1%|\n",
    "| Two-Spirited | 6|3%|\n",
    "| Other| 1\t|1%|\n",
    "\n",
    "\n",
    "| Experience  | Count            |  Percentage         |  \n",
    "|------------|--------------------|--------------------|\n",
    "| Pro | 14|7%| \n",
    "| Veteran| 48|24%|\n",
    "| Amateur | 63\t|32%|\n",
    "| Regular|36|18%|\n",
    "|Beginner| 35\t|18%|\n",
    "\n",
    "Note: variables hashedEmail and name are not relevant for this analysis"
   ]
  },
  {
   "cell_type": "markdown",
   "id": "8be29c8a-075d-4674-b1ea-31d30cc6ae35",
   "metadata": {},
   "source": [
    "### Dataset 2: sessions.csv\n",
    "\n",
    "The second dataset is called session.csv which contains the information regarding the duration and date of each players “playing hours”. The data has recorded 1535 observations, organizing such into the five following columns. \n",
    "\n",
    "**hashedEmail** - the email route of each player\n",
    "\n",
    "**start_time** - beginning of the players session\n",
    "\n",
    "**end_time** - end of the players session \n",
    "\n",
    "**original_start_time** - time of computer since january 1st 1970 (UTC)\n",
    "\n",
    "**original_end_time** - time of computer since January 1st 1970 (UTC)\n",
    "\n",
    "Unlike the players dataset this dataset is not tidy. The date is combined in the start_time and the end_time columns. Additionally it is saved as characters rather than integers, making it difficult for future plotting in its current state.\n"
   ]
  },
  {
   "cell_type": "code",
   "execution_count": null,
   "id": "7ea40677-b382-41ce-a148-5b4f227ff236",
   "metadata": {},
   "outputs": [],
   "source": [
    "sessions_data <- read_csv(\"data/sessions.csv\")\n",
    "\n",
    "sessions_num <- nrow(sessions_data)\n",
    "sessions_num\n",
    "sessions <- sessions_data |>\n",
    "    mutate(start_time = dmy_hm(start_time)) |>\n",
    "    mutate(end_time = dmy_hm(end_time)) \n",
    "\n",
    "\n",
    "glimpse(sessions_data)"
   ]
  },
  {
   "cell_type": "code",
   "execution_count": null,
   "id": "30e763c0-7681-4e89-8273-eb031cf14384",
   "metadata": {},
   "outputs": [],
   "source": [
    "\n",
    "session_time_strt <- summarize(sessions,\n",
    "          session_stime_min = min(start_time, na.rm = TRUE),\n",
    "          session_stime_max = max(start_time, na.rm = TRUE),\n",
    "          session_stime_mean = mean(start_time, na.rm = TRUE))       \n",
    "session_time_strt\n",
    "\n",
    "\n",
    "session_time_end <- summarize(sessions,\n",
    "          session_etime_min = min(end_time, na.rm = TRUE),\n",
    "          session_etime_max = max(end_time, na.rm = TRUE),\n",
    "          session_etime_mean = mean(end_time, na.rm = TRUE))       \n",
    "session_time_end\n"
   ]
  },
  {
   "cell_type": "markdown",
   "id": "8ab6df81-04cd-436f-a58b-777ad5a91ae2",
   "metadata": {},
   "source": [
    "### Summary Stats\n",
    "\n",
    "The mean, maximum, and minimum were calculated for both start_time and end_time. Values in the “original_x” columns were irrelevant for the analysis.\n",
    "\n",
    "\n",
    "| Session    | Max                |   Min              |        Mean         |\n",
    "|------------|--------------------|--------------------|---------------------|\n",
    "| start_time | 2024-09-26 06:09:00|2024-04-06 09:27:00 | 2024-06-24 03:54:03 |\n",
    "| end_time   |2024-09-26 07:39:00 | 2024-04-06 09:31:00| 2024-06-24 02:26:18 |\n",
    "\n",
    "Note: This dataset will not be used in the analysis"
   ]
  },
  {
   "cell_type": "markdown",
   "id": "d5c94165-7b02-4778-9a25-d3c9399f867a",
   "metadata": {},
   "source": [
    "### Question:\n",
    "\n",
    "In regards to the observations made and the general inquiry posed by PLAI, I aim to answer the question:\n",
    "\n",
    "**Which specific gender and age demographic is likly to contribute more time to playing PLAICraft?**\n",
    "\n"
   ]
  },
  {
   "cell_type": "markdown",
   "id": "d0270c1b-a6b5-43ae-9f4a-72f52a841621",
   "metadata": {},
   "source": [
    "## Visualisation\n",
    "\n",
    "I will be plotting the data into both scatter plots and graphs. The use of scatterplpots will note how age may relate to each of the variables on the x-axis and overall it's impact on the playing hours noted in the y-axis. While the bar graphs will compare and contrast the prevalence of each *chosen variable* in regards to played hours.   \n",
    "\n",
    "*chosen variables* = Age, Gender"
   ]
  },
  {
   "cell_type": "code",
   "execution_count": null,
   "id": "018af778-0c60-4bb6-bf73-e7bdb7f45b96",
   "metadata": {},
   "outputs": [],
   "source": [
    "options(repr.plot.width = 10 , repr.plot.height = 7) \n",
    "\n",
    "\n",
    "hours_age_spl <- ggplot(player_data, \n",
    "                    aes(x = Age, y = played_hours)) +\n",
    "  geom_point() +\n",
    "  labs(x = \"Age of Players\", y = \"Total Playing Time (hrs)\", \n",
    "       title = \"Relationship Between Age and Playing Time\") \n",
    "\n",
    "\n",
    "\n",
    "hours_age_bar <- ggplot(player_data, \n",
    "                    aes(x = Age, y = played_hours)) +\n",
    "           geom_bar(stat = \"identity\", fill = \"darkgreen\") +\n",
    "           labs(x = \"Age of Individual Players\", y = \"Total Playing Time (hrs)\", \n",
    "           title = \"Age and Playing Time\") \n",
    "\n",
    "hours_gender <- ggplot(player_data, \n",
    "                    aes(x = gender, y = played_hours, fill = Age)) +\n",
    "   geom_bar(stat = \"identity\") +\n",
    "  labs(x = \"Gender of Individual Players\", y = \"Total Playing Time (hrs)\", \n",
    "       title = \"Gender and Playing Time\", fill = \"Player's Age\") \n",
    "\n",
    "\n",
    "hours_gen_sp <- ggplot(player_data, \n",
    "                    aes(x = Age, y = played_hours, color = gender, shape = gender)) +\n",
    "  geom_point() +\n",
    "  labs(x = \"Age of Players\", y = \"Total Playing Time (hrs)\", \n",
    "       title = \"Gender and Playing Time\", fill = \"Gender\") \n",
    "\n",
    "\n",
    "hours_gender <- ggplot(player_data, \n",
    "                    aes(x = gender, y = played_hours, fill = Age)) +\n",
    "   geom_bar(stat = \"identity\") +\n",
    "  labs(x = \"Gender of Individual Players\", y = \"Total Playing Time (hrs)\", \n",
    "       title = \"Gender and Playing Time\", fill = \"Player's Age\") \n",
    "\n",
    "hours_age_spl\n",
    "hours_age_bar\n",
    "hours_gen_sp\n",
    "hours_gender"
   ]
  },
  {
   "cell_type": "markdown",
   "id": "f8d43572-0d6d-400a-a88f-94217970defc",
   "metadata": {},
   "source": [
    "Based on the scatterplots and bar graphs plotted above, 2 major observations can be made:\n",
    "\n",
    "1. A large majority of players that identify as male and are more likely to dedicate their time playing\n",
    "2. Congruent with the statistics summary, majority of dedicated players are in their early 20s\n",
    "\n"
   ]
  },
  {
   "cell_type": "markdown",
   "id": "7347a26f-ca15-4ce2-89db-03ffdb6bbbaf",
   "metadata": {},
   "source": [
    "### Methods\n",
    "\n",
    "Based on the visualised observations made above, I propose the use of a regression model to predict which players are most dedicated to the game. Unlike the calssification model, the regression model was made specifically to predict numerical values. Using the various categories each player falls under and predicting such with the use of their playing times can effectively indicate which players are more likely to spend time on the game and ultimately allow the researchers to decide who to expend their recruiting efforts towards. Additionally, With the use of KNN Regression it is necessary that we make the assumption that points that are closer together on the graph are more likely to have similar values. \n",
    "\n",
    "Although this method is more logical (and useful) than KNN Classification there are still a few issues that may arise with its use. As seen on the graphs above there is a fairly large disparity in particular player’s gender, age, and subscription status. These imbalances could possibly affect the performance of the model, and should be taken into consideration when reading the prediction values. \n",
    "\n",
    "Therefore, in order to have a point of comparison, I will use the information given by the bar graphs to reference whether the predictions made by the classification model are congruent with the scatterplot observations, as well as using the statistical summaries to note cohesion in data patterns. The observations from the bar graphs and scatterplots will also provide information as to which values should be chosen to predict. \n",
    "\n",
    "To garner my results I will be using the following steps\n",
    "\n",
    "1. Split the data into training, testing, and validation data \n",
    "2. Split the training data in to smaller sets (5 total)\n",
    "3. Cross validate the outcomes (tune the K value to gain multiple accuracy outcomes)\n",
    "4. Use the testing data to make a prediction\n",
    "\n",
    "To further evaluate the accuracy and efficiency of the classifier I will also use the confusion matrix on the testing data to analyze its performance. \n",
    "\n",
    "\n",
    "\n",
    "\n",
    "\n"
   ]
  }
 ],
 "metadata": {
  "kernelspec": {
   "display_name": "R",
   "language": "R",
   "name": "ir"
  },
  "language_info": {
   "codemirror_mode": "r",
   "file_extension": ".r",
   "mimetype": "text/x-r-source",
   "name": "R",
   "pygments_lexer": "r",
   "version": "4.3.3"
  }
 },
 "nbformat": 4,
 "nbformat_minor": 5
}
